{
 "cells": [
  {
   "cell_type": "code",
   "execution_count": 4,
   "metadata": {},
   "outputs": [],
   "source": [
    "from sklearn import svm\n",
    "from sklearn.model_selection import GridSearchCV\n",
    "from sklearn.preprocessing import StandardScaler\n",
    "from sklearn.model_selection import StratifiedShuffleSplit\n",
    "import numpy as np\n",
    "import pandas as pd"
   ]
  },
  {
   "cell_type": "code",
   "execution_count": 6,
   "metadata": {},
   "outputs": [],
   "source": [
    "# Ainda não carreguei os dados. o link do professor estava quebrado\n",
    "# peguei direto no site o dataset de mesmo nome, porém têm 3 grupos de dados, tem que ver qual é o certo.\n",
    "# estão na pasta \"data\"\n",
    "\n",
    "# no exemplo da internet ele usava esse StandardScaler (não sei pra que serve)\n",
    "# scaler = StandardScaler()\n",
    "# X = scaler.fit_transform(X)"
   ]
  },
  {
   "cell_type": "code",
   "execution_count": 7,
   "metadata": {},
   "outputs": [],
   "source": [
    "# Treine um SVM com kernel linear, encontre uma margem ótima C, \n",
    "# plote em um gráfico os erros de teste vs o valor de C em escla logarítmica [2-5, 215].\n",
    "C_range = 2*np.logspace(-5, 15, 100)\n",
    "param_grid = dict(C=C_range)\n",
    "cv = StratifiedShuffleSplit(n_splits=10, test_size=0.3)\n",
    "grid = GridSearchCV(svm.SVC(kernel=\"linear\"), param_grid=param_grid, cv=cv, scoring=\"accuracy\")\n",
    "#grid.fit(X, y)\n",
    "# O resultado é só tirar desse objeto grid e plotar"
   ]
  },
  {
   "cell_type": "code",
   "execution_count": 9,
   "metadata": {},
   "outputs": [
    {
     "ename": "ValueError",
     "evalue": "DataFrame constructor not properly called!",
     "output_type": "error",
     "traceback": [
      "\u001b[0;31m---------------------------------------------------------------------------\u001b[0m",
      "\u001b[0;31mValueError\u001b[0m                                Traceback (most recent call last)",
      "\u001b[0;32m<ipython-input-9-18e71ed41b89>\u001b[0m in \u001b[0;36m<module>\u001b[0;34m()\u001b[0m\n\u001b[0;32m----> 1\u001b[0;31m \u001b[0mdf\u001b[0m \u001b[0;34m=\u001b[0m \u001b[0mpd\u001b[0m\u001b[0;34m.\u001b[0m\u001b[0mDataFrame\u001b[0m\u001b[0;34m(\u001b[0m\u001b[0mgrid\u001b[0m\u001b[0;34m)\u001b[0m\u001b[0;34m\u001b[0m\u001b[0m\n\u001b[0m",
      "\u001b[0;32m/usr/local/lib/python3.7/site-packages/pandas/core/frame.py\u001b[0m in \u001b[0;36m__init__\u001b[0;34m(self, data, index, columns, dtype, copy)\u001b[0m\n\u001b[1;32m    420\u001b[0m                                          dtype=values.dtype, copy=False)\n\u001b[1;32m    421\u001b[0m             \u001b[0;32melse\u001b[0m\u001b[0;34m:\u001b[0m\u001b[0;34m\u001b[0m\u001b[0m\n\u001b[0;32m--> 422\u001b[0;31m                 \u001b[0;32mraise\u001b[0m \u001b[0mValueError\u001b[0m\u001b[0;34m(\u001b[0m\u001b[0;34m'DataFrame constructor not properly called!'\u001b[0m\u001b[0;34m)\u001b[0m\u001b[0;34m\u001b[0m\u001b[0m\n\u001b[0m\u001b[1;32m    423\u001b[0m \u001b[0;34m\u001b[0m\u001b[0m\n\u001b[1;32m    424\u001b[0m         \u001b[0mNDFrame\u001b[0m\u001b[0;34m.\u001b[0m\u001b[0m__init__\u001b[0m\u001b[0;34m(\u001b[0m\u001b[0mself\u001b[0m\u001b[0;34m,\u001b[0m \u001b[0mmgr\u001b[0m\u001b[0;34m,\u001b[0m \u001b[0mfastpath\u001b[0m\u001b[0;34m=\u001b[0m\u001b[0;32mTrue\u001b[0m\u001b[0;34m)\u001b[0m\u001b[0;34m\u001b[0m\u001b[0m\n",
      "\u001b[0;31mValueError\u001b[0m: DataFrame constructor not properly called!"
     ]
    }
   ],
   "source": [
    "df = pd.DataFrame(grid)"
   ]
  },
  {
   "cell_type": "code",
   "execution_count": 8,
   "metadata": {},
   "outputs": [],
   "source": []
  },
  {
   "cell_type": "code",
   "execution_count": 16,
   "metadata": {},
   "outputs": [],
   "source": [
    "# Repita para um kernel gaussiano, e com σ fixo\n",
    "# Essa parte tá complicada porque aparentemente não tem nenhum kernel com esse nome no scikit learn\n",
    "# li na internet que o kernel \"rbf\" é gaussiano \n",
    "# mas o próximo item do trabalho é pedindo pra fazer com kernel \"fbr\"\n",
    "# que eu suponho que seja a tradução pra português de rbf. \n",
    "# também não sei oq significa esse σ fixo\n",
    "\n",
    "#outras opções de kernel que achei na internet foram: polynomial e sigmoid."
   ]
  },
  {
   "cell_type": "code",
   "execution_count": null,
   "metadata": {},
   "outputs": [],
   "source": []
  },
  {
   "cell_type": "code",
   "execution_count": 5,
   "metadata": {},
   "outputs": [],
   "source": [
    "# Treine um SVM com kernel FBR (assumindo que é o mesmo que rbf)\n",
    "param_grid = {}\n",
    "cv = StratifiedShuffleSplit(n_splits=10, test_size=0.3)\n",
    "grid = GridSearchCV(svm.SVC(kernel=\"rbf\"), param_grid=param_grid, cv=cv, scoring=\"accuracy\")\n",
    "#grid.fit(X, y)\n",
    "# O resultado é só tirar desse objeto grid e plotar"
   ]
  },
  {
   "cell_type": "code",
   "execution_count": 6,
   "metadata": {},
   "outputs": [
    {
     "data": {
      "text/plain": [
       "array([2.00000000e-05, 3.18456559e-05, 5.07072899e-05, 8.07403452e-05,\n",
       "       1.28561462e-04, 2.04706204e-04, 3.25950167e-04, 5.19004842e-04,\n",
       "       8.26402480e-04, 1.31586645e-03, 2.09523151e-03, 3.33620107e-03,\n",
       "       5.31217557e-03, 8.45848575e-03, 1.34683013e-02, 2.14453444e-02,\n",
       "       3.41470529e-02, 5.43717649e-02, 8.65752256e-02, 1.37852242e-01,\n",
       "       2.19499753e-01, 3.49505680e-01, 5.56511880e-01, 8.86124292e-01,\n",
       "       1.41096046e+00, 2.24664807e+00, 3.57729906e+00, 5.69607174e+00,\n",
       "       9.06975702e+00, 1.44416180e+01, 2.29951399e+01, 3.66147656e+01,\n",
       "       5.83010613e+01, 9.28317767e+01, 1.47814441e+02, 2.35362390e+02,\n",
       "       3.74763485e+02, 5.96729448e+02, 9.50162032e+02, 1.51292666e+03,\n",
       "       2.40900708e+03, 3.83582052e+03, 6.10771102e+03, 9.72520316e+03,\n",
       "       1.54852737e+04, 2.46569348e+04, 3.92608130e+04, 6.25143170e+04,\n",
       "       9.95404713e+04, 1.58496580e+05, 2.52371377e+05, 4.01846601e+05,\n",
       "       6.39853428e+05, 1.01882760e+06, 1.62226166e+06, 2.58309933e+06,\n",
       "       4.11302462e+06, 6.54909833e+06, 1.04280166e+07, 1.66043514e+07,\n",
       "       2.64388230e+07, 4.20980829e+07, 6.70320530e+07, 1.06733985e+08,\n",
       "       1.69950687e+08, 2.70609555e+08, 4.30886938e+08, 6.86093857e+08,\n",
       "       1.09245544e+09, 1.73949801e+09, 2.76977274e+09, 4.41026148e+09,\n",
       "       7.02238347e+09, 1.11816204e+10, 1.78043017e+10, 2.83494833e+10,\n",
       "       4.51403944e+10, 7.18762733e+10, 1.14447353e+11, 1.82232551e+11,\n",
       "       2.90165756e+11, 4.62025940e+11, 7.35675954e+11, 1.17140416e+12,\n",
       "       1.86520669e+12, 2.96993652e+12, 4.72897883e+12, 7.52987161e+12,\n",
       "       1.19896850e+13, 1.90909691e+13, 3.03982217e+13, 4.84025653e+13,\n",
       "       7.70705719e+13, 1.22718145e+14, 1.95401991e+14, 3.11135229e+14,\n",
       "       4.95415271e+14, 7.88841212e+14, 1.25605829e+15, 2.00000000e+15])"
      ]
     },
     "execution_count": 6,
     "metadata": {},
     "output_type": "execute_result"
    }
   ],
   "source": [
    "C_range"
   ]
  },
  {
   "cell_type": "code",
   "execution_count": null,
   "metadata": {},
   "outputs": [],
   "source": []
  },
  {
   "cell_type": "code",
   "execution_count": null,
   "metadata": {},
   "outputs": [],
   "source": []
  }
 ],
 "metadata": {
  "kernelspec": {
   "display_name": "Python 3",
   "language": "python",
   "name": "python3"
  },
  "language_info": {
   "codemirror_mode": {
    "name": "ipython",
    "version": 3
   },
   "file_extension": ".py",
   "mimetype": "text/x-python",
   "name": "python",
   "nbconvert_exporter": "python",
   "pygments_lexer": "ipython3",
   "version": "3.7.0"
  }
 },
 "nbformat": 4,
 "nbformat_minor": 2
}
